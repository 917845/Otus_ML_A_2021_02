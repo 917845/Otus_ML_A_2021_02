{
 "cells": [
  {
   "cell_type": "markdown",
   "metadata": {},
   "source": [
    "## TPOT"
   ]
  },
  {
   "cell_type": "code",
   "execution_count": 2,
   "metadata": {},
   "outputs": [
    {
     "data": {
      "application/vnd.jupyter.widget-view+json": {
       "model_id": "",
       "version_major": 2,
       "version_minor": 0
      },
      "text/plain": [
       "HBox(children=(FloatProgress(value=0.0, description='Optimization Progress', max=120.0, style=ProgressStyle(de…"
      ]
     },
     "metadata": {},
     "output_type": "display_data"
    },
    {
     "name": "stdout",
     "output_type": "stream",
     "text": [
      "\n",
      "Generation 1 - Current best internal CV score: 0.8214285714285714\n",
      "\n",
      "Generation 2 - Current best internal CV score: 0.8214285714285714\n",
      "\n",
      "Generation 3 - Current best internal CV score: 0.8214761904761904\n",
      "\n",
      "Generation 4 - Current best internal CV score: 0.8215714285714286\n",
      "\n",
      "Generation 5 - Current best internal CV score: 0.8215714285714286\n",
      "\n",
      "Best pipeline: ExtraTreesClassifier(input_matrix, bootstrap=True, criterion=entropy, max_features=0.8, min_samples_leaf=18, min_samples_split=5, n_estimators=100)\n",
      "0.781479025424655\n"
     ]
    }
   ],
   "source": [
    "from tpot import TPOTClassifier\n",
    "from sklearn.datasets import load_digits\n",
    "from sklearn.model_selection import train_test_split\n",
    "from sklearn.metrics import roc_auc_score\n",
    "import pandas as pd\n",
    "\n",
    "path = \"/Users/maxim/projects/otus/self_advanced_ml/kaggle_classification/data/UCI_Credit_Card.csv\"\n",
    "train_df = pd.read_csv(path, low_memory=False)\n",
    "target = train_df['default.payment.next.month']\n",
    "train_df = train_df.drop(['default.payment.next.month', 'ID'], axis=1)\n",
    "\n",
    "X_train, X_test, y_train, y_test = train_test_split(\n",
    "    train_df,\n",
    "    target.values,\n",
    "    test_size=.3,\n",
    "    random_state=2020,\n",
    "    stratify=target\n",
    ")\n",
    "\n",
    "pipeline_optimizer = TPOTClassifier(\n",
    "    generations=5,\n",
    "    population_size=20,\n",
    "    cv=5,\n",
    "    random_state=42,\n",
    "    verbosity=2\n",
    ")\n",
    "pipeline_optimizer.fit(X_train, y_train)\n",
    "\n",
    "preds = pipeline_optimizer.predict_proba(X_test)[:, 1]\n",
    "\n",
    "print(roc_auc_score(y_test, preds))\n",
    "#pipeline_optimizer.export('tpot_clf_pipeline.py')"
   ]
  },
  {
   "cell_type": "code",
   "execution_count": 3,
   "metadata": {},
   "outputs": [],
   "source": [
    "pipeline_optimizer.export('tpot_clf_pipeline.py')"
   ]
  },
  {
   "cell_type": "code",
   "execution_count": null,
   "metadata": {},
   "outputs": [],
   "source": [
    "pipeline_optimizer = TPOTClassifier(\n",
    "    generations=5,\n",
    "    population_size=20,\n",
    "    cv=5,\n",
    "    random_state=42,\n",
    "    verbosity=2,\n",
    "    use_dask=True,\n",
    "    n_jobs=-1\n",
    ")\n",
    "pipeline_optimizer.fit(X_train, y_train)\n",
    "\n",
    "preds = pipeline_optimizer.predict_proba(X_test)[:, 1]\n",
    "\n",
    "print(roc_auc_score(y_test, preds))"
   ]
  },
  {
   "cell_type": "code",
   "execution_count": null,
   "metadata": {},
   "outputs": [],
   "source": [
    "# http://epistasislab.github.io/tpot/using/#built-in-tpot-configurations"
   ]
  },
  {
   "cell_type": "markdown",
   "metadata": {},
   "source": [
    "## GAMA"
   ]
  },
  {
   "cell_type": "code",
   "execution_count": null,
   "metadata": {},
   "outputs": [],
   "source": [
    "from gama import GamaClassifier\n",
    "\n",
    "gaml = GamaClassifier(scoring='roc_auc', max_total_time=100, store=\"nothing\", n_jobs=-1)\n",
    "\n",
    "gaml.fit(X_train.values, y_train)\n",
    "\n",
    "preds = gaml.predict_proba(X_test.values)[:, 1]\n",
    "\n",
    "print(roc_auc_score(y_test, preds))"
   ]
  }
 ],
 "metadata": {
  "kernelspec": {
   "display_name": "Python 3",
   "language": "python",
   "name": "python3"
  },
  "language_info": {
   "codemirror_mode": {
    "name": "ipython",
    "version": 3
   },
   "file_extension": ".py",
   "mimetype": "text/x-python",
   "name": "python",
   "nbconvert_exporter": "python",
   "pygments_lexer": "ipython3",
   "version": "3.7.6"
  },
  "toc": {
   "base_numbering": 1,
   "nav_menu": {},
   "number_sections": true,
   "sideBar": true,
   "skip_h1_title": false,
   "title_cell": "Table of Contents",
   "title_sidebar": "Contents",
   "toc_cell": false,
   "toc_position": {},
   "toc_section_display": true,
   "toc_window_display": false
  }
 },
 "nbformat": 4,
 "nbformat_minor": 4
}
